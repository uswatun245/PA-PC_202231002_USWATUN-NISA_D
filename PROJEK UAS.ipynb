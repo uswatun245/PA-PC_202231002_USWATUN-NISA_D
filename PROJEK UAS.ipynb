{
 "cells": [
  {
   "cell_type": "code",
   "execution_count": 28,
   "id": "c671bffe-0da4-49b3-97d4-88b4dea6cb8d",
   "metadata": {},
   "outputs": [],
   "source": [
    "import cv2"
   ]
  },
  {
   "cell_type": "code",
   "execution_count": 29,
   "id": "e30df8a2-891a-443f-a09f-f80a308bf2db",
   "metadata": {},
   "outputs": [],
   "source": [
    "# Membaca gambar masukan\n",
    "gambar = cv2.imread('my foto.jpg')"
   ]
  },
  {
   "cell_type": "code",
   "execution_count": 30,
   "id": "a3754d1d-0928-43cd-aa69-27916699e520",
   "metadata": {},
   "outputs": [],
   "source": [
    "# Resize gambar ke ukuran yang lebih kecil (120x100)\n",
    "gambar_resize = cv2.resize(gambar, (120, 100))"
   ]
  },
  {
   "cell_type": "code",
   "execution_count": 31,
   "id": "f17869db-1ec2-4e12-815a-d741013a741c",
   "metadata": {},
   "outputs": [],
   "source": [
    "# Rotasi gambar searah jarum jam 90 derajat\n",
    "gambar_rotasi = cv2.rotate(gambar, cv2.ROTATE_90_CLOCKWISE)"
   ]
  },
  {
   "cell_type": "code",
   "execution_count": 32,
   "id": "3c78db59-adf9-4123-bb3d-c8706ffdad32",
   "metadata": {},
   "outputs": [],
   "source": [
    "# Crop gambar ke area tertentu (50x100 pixel mulai dari pojok kiri atas)\n",
    "gambar_crop = gambar[0:100, 0:50]"
   ]
  },
  {
   "cell_type": "code",
   "execution_count": 33,
   "id": "925d8f01-3835-416f-b618-52163b09ed08",
   "metadata": {},
   "outputs": [],
   "source": [
    "# Flip gambar secara horizontal\n",
    "gambar_flip = cv2.flip(gambar, 1)"
   ]
  },
  {
   "cell_type": "code",
   "execution_count": 34,
   "id": "02ba4b9d-414e-420d-9b2b-609d998f97c0",
   "metadata": {},
   "outputs": [],
   "source": [
    "# Translasi gambar 100 pixel ke kanan\n",
    "gambar_translasi = cv2.copyMakeBorder(gambar, 0, 0, 100, 0, cv2.BORDER_CONSTANT, 0)"
   ]
  },
  {
   "cell_type": "code",
   "execution_count": 35,
   "id": "5ffca60d-658a-46d1-9595-55add07d4c41",
   "metadata": {},
   "outputs": [],
   "source": [
    "# Menampilkan gambar asli dan hasil olahan\n",
    "cv2.imshow('Gambar Asli', gambar)\n",
    "cv2.imshow('Gambar Resize', gambar_resize)\n",
    "cv2.imshow('Gambar Rotasi', gambar_rotasi)\n",
    "cv2.imshow('Gambar Crop', gambar_crop)\n",
    "cv2.imshow('Gambar Flip', gambar_flip)\n",
    "cv2.imshow('Gambar Translasi', gambar_translasi)\n",
    "\n",
    "# Menunggu pencetan tombol untuk menutup jendela\n",
    "cv2.waitKey(0)\n",
    "cv2.destroyAllWindows()"
   ]
  },
  {
   "cell_type": "code",
   "execution_count": null,
   "id": "e4241c06-2cf3-4e2e-b3ee-ed579ceb01c8",
   "metadata": {},
   "outputs": [],
   "source": []
  }
 ],
 "metadata": {
  "kernelspec": {
   "display_name": "Python 3 (ipykernel)",
   "language": "python",
   "name": "python3"
  },
  "language_info": {
   "codemirror_mode": {
    "name": "ipython",
    "version": 3
   },
   "file_extension": ".py",
   "mimetype": "text/x-python",
   "name": "python",
   "nbconvert_exporter": "python",
   "pygments_lexer": "ipython3",
   "version": "3.11.7"
  }
 },
 "nbformat": 4,
 "nbformat_minor": 5
}
